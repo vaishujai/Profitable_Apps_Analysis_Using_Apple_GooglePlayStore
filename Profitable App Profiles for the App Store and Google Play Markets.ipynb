{
 "cells": [
  {
   "cell_type": "markdown",
   "metadata": {},
   "source": [
    "# Profitable App Profiles for the App Store and Google Play Markets \n",
    "\n",
    "The goal for this project is to analyze data to understand what kinds of apps are likely to attract more users on the iOS and Android platforms\n",
    "\n",
    "The [data set](https://www.kaggle.com/lava18/google-play-store-apps)containing data about approximately ten thousand Android apps from Google Play\n",
    "\n",
    "The [data set](https://www.kaggle.com/ramamet4/app-store-apple-data-set-10k-apps)data set containing data about approximately seven thousand iOS apps from the App Store"
   ]
  },
  {
   "cell_type": "markdown",
   "metadata": {},
   "source": [
    "Opening the Google_Play_Dataset"
   ]
  },
  {
   "cell_type": "code",
   "execution_count": 1,
   "metadata": {},
   "outputs": [],
   "source": [
    "opened_file = open('googleplaystore.csv',encoding='utf8')\n",
    "from csv import reader\n",
    "read_file = reader(opened_file)\n",
    "android = list(read_file)"
   ]
  },
  {
   "cell_type": "markdown",
   "metadata": {},
   "source": [
    "Opening the Apple_Store_Dataset"
   ]
  },
  {
   "cell_type": "code",
   "execution_count": 2,
   "metadata": {},
   "outputs": [],
   "source": [
    "opened_file = open('AppleStore.csv',encoding='utf8')\n",
    "from csv import reader\n",
    "read_file = reader(opened_file)\n",
    "ios = list(read_file)\n"
   ]
  },
  {
   "cell_type": "code",
   "execution_count": 3,
   "metadata": {},
   "outputs": [
    {
     "name": "stdout",
     "output_type": "stream",
     "text": [
      "Preview of the GooglePlay Dataset\n",
      "\n",
      "['App', 'Category', 'Rating', 'Reviews', 'Size', 'Installs', 'Type', 'Price', 'Content Rating', 'Genres', 'Last Updated', 'Current Ver', 'Android Ver'] \n",
      "\n",
      "['Photo Editor & Candy Camera & Grid & ScrapBook', 'ART_AND_DESIGN', '4.1', '159', '19M', '10,000+', 'Free', '0', 'Everyone', 'Art & Design', 'January 7, 2018', '1.0.0', '4.0.3 and up'] \n",
      "\n",
      "\n",
      "Preview of the AppleStore Dataset\n",
      "\n",
      "['id', 'track_name', 'size_bytes', 'currency', 'price', 'rating_count_tot', 'rating_count_ver', 'user_rating', 'user_rating_ver', 'ver', 'cont_rating', 'prime_genre', 'sup_devices.num', 'ipadSc_urls.num', 'lang.num', 'vpp_lic'] \n",
      "\n",
      "['284882215', 'Facebook', '389879808', 'USD', '0.0', '2974676', '212', '3.5', '3.5', '95.0', '4+', 'Social Networking', '37', '1', '29', '1'] \n",
      "\n"
     ]
    }
   ],
   "source": [
    "def explore_data(dataset,start,end,rows_column = False):\n",
    "    dataset_slice = dataset[start:end]\n",
    "    for x in dataset_slice:\n",
    "        print(x,\"\\n\")\n",
    "        \n",
    "    if rows_column:\n",
    "        print(\"Number of rows :\" ,len(dataset))\n",
    "        print(\"Number of column :\" ,len(dataset[0]))\n",
    "        \n",
    "print(\"Preview of the GooglePlay Dataset\\n\")\n",
    "android_preview = explore_data(android,0,2)\n",
    "\n",
    "print(\"\\nPreview of the AppleStore Dataset\\n\")\n",
    "ios_preview = explore_data(ios,0,2)\n",
    "\n"
   ]
  },
  {
   "cell_type": "markdown",
   "metadata": {},
   "source": [
    "# Data Cleanup Process\n",
    "##### Part 1 : Deleting the wrong data\n",
    "The Google Play data set has a dedicated [discussion section](https://www.kaggle.com/lava18/google-play-store-apps/discussion/164101), and we can see that one of the discussions outlines an error for row `10473`. Let's print this row and compare it against the header and another row that is correct."
   ]
  },
  {
   "cell_type": "code",
   "execution_count": 4,
   "metadata": {},
   "outputs": [
    {
     "name": "stdout",
     "output_type": "stream",
     "text": [
      "['App', 'Category', 'Rating', 'Reviews', 'Size', 'Installs', 'Type', 'Price', 'Content Rating', 'Genres', 'Last Updated', 'Current Ver', 'Android Ver'] \n",
      "\n",
      " ['Life Made WI-Fi Touchscreen Photo Frame', '1.9', '19', '3.0M', '1,000+', 'Free', '0', 'Everyone', '', 'February 11, 2018', '1.0.19', '4.0 and up']\n"
     ]
    }
   ],
   "source": [
    "print(android[0],\"\\n\\n\",android[10473])"
   ]
  },
  {
   "cell_type": "markdown",
   "metadata": {},
   "source": [
    "The row `10473` corresponds to the app `Life Made WI-Fi Touchscreen Photo Frame`, and we can see that the rating is `19`. This is clearly off because the maximum rating for a Google Play app is 5.As a result, we'll delete this row."
   ]
  },
  {
   "cell_type": "code",
   "execution_count": 5,
   "metadata": {},
   "outputs": [
    {
     "name": "stdout",
     "output_type": "stream",
     "text": [
      "Length of the original GooglePlay Dataset :  10842\n",
      "Length of the updated GooglePlay Dataset : 10841\n"
     ]
    }
   ],
   "source": [
    "print(\"Length of the original GooglePlay Dataset : \",len(android))\n",
    "del android[10473]\n",
    "print(\"Length of the updated GooglePlay Dataset :\" , len(android))"
   ]
  },
  {
   "cell_type": "markdown",
   "metadata": {},
   "source": [
    "##### Part 2 : Removing duplicate entries\n",
    "If we explore the Google Play data, we'll find that some apps have more than one entry. For instance, the application Instagram has four entries:"
   ]
  },
  {
   "cell_type": "code",
   "execution_count": 11,
   "metadata": {},
   "outputs": [
    {
     "name": "stdout",
     "output_type": "stream",
     "text": [
      "['Instagram', 'SOCIAL', '4.5', '66577313', 'Varies with device', '1,000,000,000+', 'Free', '0', 'Teen', 'Social', 'July 31, 2018', 'Varies with device', 'Varies with device']\n",
      "['Instagram', 'SOCIAL', '4.5', '66577446', 'Varies with device', '1,000,000,000+', 'Free', '0', 'Teen', 'Social', 'July 31, 2018', 'Varies with device', 'Varies with device']\n",
      "['Instagram', 'SOCIAL', '4.5', '66577313', 'Varies with device', '1,000,000,000+', 'Free', '0', 'Teen', 'Social', 'July 31, 2018', 'Varies with device', 'Varies with device']\n",
      "['Instagram', 'SOCIAL', '4.5', '66509917', 'Varies with device', '1,000,000,000+', 'Free', '0', 'Teen', 'Social', 'July 31, 2018', 'Varies with device', 'Varies with device']\n"
     ]
    }
   ],
   "source": [
    "for x in android[1:]:\n",
    "    name = x[0]\n",
    "    if name == 'Instagram':\n",
    "        print(x)"
   ]
  },
  {
   "cell_type": "code",
   "execution_count": 16,
   "metadata": {},
   "outputs": [
    {
     "name": "stdout",
     "output_type": "stream",
     "text": [
      "The number of duplicate row data in GooglePlayStore :  1181 \n",
      "\n",
      "The number of duplicate row data in ApplePlayStore :  0 \n",
      "\n"
     ]
    }
   ],
   "source": [
    "def duplicate_values(dataset):\n",
    "    duplicate_apps = []\n",
    "    unique_apps = []\n",
    "    for x in dataset[1:]:\n",
    "        name = x[0]\n",
    "        if name in unique_apps:\n",
    "            duplicate_apps.append(x[0])\n",
    "        else:\n",
    "            unique_apps.append(x[0])\n",
    "    return duplicate_apps\n",
    "            \n",
    "print(\"The number of duplicate row data in GooglePlayStore : \" , len(duplicate_values(android)),\"\\n\")\n",
    "print(\"The number of duplicate row data in ApplePlayStore : \" , len(duplicate_values(ios)),\"\\n\")\n"
   ]
  },
  {
   "cell_type": "markdown",
   "metadata": {},
   "source": []
  },
  {
   "cell_type": "code",
   "execution_count": null,
   "metadata": {},
   "outputs": [],
   "source": []
  }
 ],
 "metadata": {
  "kernelspec": {
   "display_name": "Python 3",
   "language": "python",
   "name": "python3"
  },
  "language_info": {
   "codemirror_mode": {
    "name": "ipython",
    "version": 3
   },
   "file_extension": ".py",
   "mimetype": "text/x-python",
   "name": "python",
   "nbconvert_exporter": "python",
   "pygments_lexer": "ipython3",
   "version": "3.7.0"
  }
 },
 "nbformat": 4,
 "nbformat_minor": 2
}
